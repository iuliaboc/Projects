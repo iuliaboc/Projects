{
 "cells": [
  {
   "cell_type": "code",
   "execution_count": 1,
   "metadata": {},
   "outputs": [
    {
     "name": "stdout",
     "output_type": "stream",
     "text": [
      "Valoarea calculata este 43\n"
     ]
    }
   ],
   "source": [
    "#1.Se da o lista de numere. Sa se afiseze diferenta dintre: suma celor mai mari 3 numere si produsul celor mai mici 2 numere.\n",
    "\n",
    "lista = [10, 3, 5, 20, -4, 9, 1] \n",
    "\n",
    "lista.sort()\n",
    "s = lista[-1] + lista[-2] + lista[-3]\n",
    "p = lista[0] * lista[1]\n",
    "print(f\"Valoarea calculata este {s-p}\")"
   ]
  },
  {
   "cell_type": "code",
   "execution_count": 2,
   "metadata": {},
   "outputs": [
    {
     "data": {
      "text/plain": [
       "Counter({'mouse': 3,\n",
       "         'and': 1,\n",
       "         'branza': 3,\n",
       "         'viezure': 3,\n",
       "         'me': 1,\n",
       "         'slow': 1,\n",
       "         'This': 1,\n",
       "         'out': 1,\n",
       "         'in': 2,\n",
       "         'want': 1,\n",
       "         'song': 1,\n",
       "         'barza': 3,\n",
       "         'makes': 1,\n",
       "         'to': 1,\n",
       "         'run': 1,\n",
       "         'motion': 1})"
      ]
     },
     "execution_count": 2,
     "metadata": {},
     "output_type": "execute_result"
    }
   ],
   "source": [
    "#2. Se da o lista de cuvinte. Sa se determine cuvintele unice (fara diferenta intre litere mici si mari) si de\n",
    "#cate ori apare fiecare.\n",
    "#Exemple:\n",
    "#['mouse', 'and', 'branza', 'viezure', 'viezure', 'viezure', 'me', 'slow', 'mouse', 'This', 'mouse', 'out', 'in', 'want',\n",
    "#'branza', 'song', 'barza', 'barza', 'barza', 'makes', 'to', 'in', 'branza', 'run', 'motion'] -> {'mouse': 3, 'and': 1, 'branza':\n",
    "#3, 'viezure': 3, 'me': 1, 'slow': 1, 'This': 1, 'out': 1, 'in': 2, 'want': 1, 'song': 1, 'barza': 3, 'makes': 1, 'to': 1, 'run': 1,\n",
    "#'motion': 1}\n",
    "from collections import Counter\n",
    "list=['mouse', 'and', 'branza', 'viezure', 'viezure', 'viezure', 'me', 'slow', 'mouse', 'This', 'mouse', 'out', 'in', 'want',\n",
    "'branza', 'song', 'barza', 'barza', 'barza', 'makes', 'to', 'in', 'branza', 'run', 'motion']\n",
    "Counter(list)"
   ]
  },
  {
   "cell_type": "code",
   "execution_count": 3,
   "metadata": {},
   "outputs": [
    {
     "name": "stdout",
     "output_type": "stream",
     "text": [
      "Produsul maxim este 720, obtinut din numerele [10, 9, 8]\n"
     ]
    }
   ],
   "source": [
    "#3.Se da o lista de cel putin 10 numere. Care 3 numere din lista, inmultite, dau produsul maxim?\n",
    "\n",
    "lista = [10, 1, 2, 9, 7, 8, 3, 6, 4, 5]\n",
    "\n",
    "lista.sort()\n",
    "lista.reverse()\n",
    "p = lista[0] * lista[1] * lista[2]\n",
    "print(f\"Produsul maxim este {p}, obtinut din numerele {lista[0:3]}\")"
   ]
  },
  {
   "cell_type": "code",
   "execution_count": 4,
   "metadata": {},
   "outputs": [
    {
     "name": "stdout",
     "output_type": "stream",
     "text": [
      "Exemplul 1\n",
      "(6, 8, 10)\n",
      "(3, 4, 5)\n",
      "Exemplul 2\n",
      "Nu exista astfel de triplete\n"
     ]
    }
   ],
   "source": [
    "4.#Dandu-se o lista de numere si un numar n natural, , sa se determine toate tripletele a, b, c cu a\n",
    "#< b din lista, pentru care a^n+b^n=c^n .\n",
    "def condition (a,b,c,n):\n",
    "    if a<b:\n",
    "        if a**n+b**n==c**n:\n",
    "            return True\n",
    "        else:\n",
    "            return False\n",
    "def rezultat(mylist,n):\n",
    "    ok=0\n",
    "    for i in mylist:\n",
    "        for j in mylist:\n",
    "            for k in mylist:\n",
    "                if condition(i,j,k,n):\n",
    "                    t1=(i,j,k)\n",
    "                    ok=1\n",
    "                    print(t1)\n",
    "    if ok==0:\n",
    "        print('Nu exista astfel de triplete')\n",
    "\n",
    "    \n",
    "m_list=[12, 11, 10, 9, 8, 7, 6, 5, 4, 3, 2]\n",
    "m1_list=[90, 10, 20, 30, 40, 50]\n",
    "print('Exemplul 1')\n",
    "rezultat(m_list,2)\n",
    "print('Exemplul 2')\n",
    "rezultat(m1_list,3)"
   ]
  },
  {
   "cell_type": "code",
   "execution_count": 5,
   "metadata": {},
   "outputs": [
    {
     "name": "stdout",
     "output_type": "stream",
     "text": [
      "apacapasapa\n",
      "acasa\n"
     ]
    }
   ],
   "source": [
    "#5. Dandu-se o propozitie, sa se detemine transcrierea ei in \"pasareasca\" (o vocala se transforma in vocala + 'P' + vocala\n",
    "#Sa se scrie un program care face traducerea inversa (daca stringul dat provine din pasareasca; daca nu, semnaleaza acest lucru).\n",
    "\n",
    "#Exemplu de traducere in pasareasca: acasa-apacapasapa, prietena-pripitepenapa.\n",
    "\n",
    "def replaceVowels(word):\n",
    "    newWord = []\n",
    "    for char in word:\n",
    "        if char.lower() not in 'aeiou':\n",
    "            newWord.append(char)\n",
    "        else:\n",
    "            str=char+\"p\"+char\n",
    "            newWord.append(str)\n",
    "    return \"\".join(newWord)\n",
    "\n",
    "def reverseTranslate(word):\n",
    "    newWord = []\n",
    "    index = 0\n",
    "    while index < len(word):\n",
    "        if word[index] not in 'aeiou':\n",
    "            newWord.append(word[index])\n",
    "            index += 1\n",
    "        else:\n",
    "            newWord.append(word[index])\n",
    "            index += 3\n",
    "    return \"\".join(newWord)\n",
    "\n",
    "cuvant=\"acasa\"\n",
    "print(replaceVowels(cuvant))\n",
    "c=\"apacapasapa\"\n",
    "print(reverseTranslate(c))\n"
   ]
  },
  {
   "cell_type": "code",
   "execution_count": 6,
   "metadata": {},
   "outputs": [
    {
     "name": "stdout",
     "output_type": "stream",
     "text": [
      "Subpunctul A \n",
      "\n",
      "Popescu\n",
      "Ionescu\n",
      "Georgescu\n",
      "\n",
      "Subpunctul B\n",
      "Popescu Ionescu\n",
      "\n",
      "Subpunctul C\n",
      "2 ['Popescu', 'Ionescu']\n",
      "\n",
      "Subpunctul D\n",
      "Preferintele sunt deja identice\n",
      "\n",
      "Subpunctul E\n",
      "Popescu este subset pentru  Ionescu\n",
      "Georgescu este subset pentru  Popescu\n",
      "Georgescu este subset pentru  Ionescu\n"
     ]
    }
   ],
   "source": [
    "#6. (2p) Se da un dictionar in care cheile sunt nume de studenti, iar valorile sunt liste de carti preferate. Sa se\n",
    "#determine:\n",
    "#A. Care sunt studentii care au in lista de preferinte o carte specificata?\n",
    "#B. Care sunt perechile de studenti care au aceleasi preferinte de carti (ordinea in lista de preferinte nu e\n",
    "#relevanta)\n",
    "#C. Pentru un student dat, care sunt studentii cu care are cele mai multe carti comune in liste de\n",
    "#preferinte; daca sunt mai multi astfel de studenti cei mai apropiati, se vor enumera toti.\n",
    "#D. Pentru doi studenti, A si B, care e lista de stergeri si adaugari prin care lista lui A devine identica cu\n",
    "#lista lui B (ordinea in lista nefiind importanta)\n",
    "#E. Toate perechile de studenti A, B pentru care lista de preferinte a lui A este inclusa in (dar nu coincide\n",
    "#cu) lista de preferinte a lui B.\n",
    "\n",
    "preferinte = {\n",
    " 'Popescu': ['carte2', 'carte1', 'carte3', 'carte7','alta carte'],\n",
    " 'Ionescu': ['carte1', 'carte2', 'carte3', 'carte7', 'alta carte'],\n",
    " 'Georgescu': ['carte1', 'alta carte'],\n",
    " 'Xulescu': ['carte2', 'carte5', 'carte6', 'carte7'],\n",
    " 'Dragomir': ['carte4', 'carte1', 'carte2', 'carte3']\n",
    "}\n",
    "\n",
    "print('Subpunctul A \\n')\n",
    "for nume in preferinte.keys():\n",
    "        if 'alta carte' in preferinte.get(nume):\n",
    "            print (nume)\n",
    "\n",
    "            \n",
    "        \n",
    "print('\\nSubpunctul B')\n",
    "\n",
    "#key_list=list(preferinte)\n",
    "key_list = []\n",
    "for key in preferinte:\n",
    "    key_list.append(key)\n",
    "    \n",
    "for i in range(0,len(key_list)):\n",
    "    for j in range(1,len(key_list)):\n",
    "        if key_list[i]!=key_list[j]:\n",
    "            if sorted(preferinte.get(key_list[i]))== sorted(preferinte.get(key_list[j])):\n",
    "                 print (key_list[i], key_list[j])\n",
    "\n",
    "print('\\nSubpunctul C')\n",
    "\n",
    "def asemanari(lista1,lista2):\n",
    "    count =0;\n",
    "    for i in lista1:\n",
    "        if i in lista2:\n",
    "            count=count+1\n",
    "    return count\n",
    "\n",
    "key='Xulescu' \n",
    "max=0\n",
    "colegi=[]\n",
    "for i in preferinte.keys():\n",
    "    if i!=key:\n",
    "        nr=asemanari(preferinte.get(i), preferinte.get(key))\n",
    "        if nr>max:\n",
    "            max=nr\n",
    "            \n",
    "            \n",
    "for i in range(0,len(key_list)):\n",
    "    if key_list[i]!=key:\n",
    "        nr=asemanari(preferinte.get(key_list[i]), preferinte.get(key))\n",
    "        if nr==max:\n",
    "             colegi.append(key_list[i])\n",
    "\n",
    "print(max, colegi)\n",
    "\n",
    "print('\\nSubpunctul D')\n",
    "\n",
    "student1='Popescu'\n",
    "student2='Ionescu'\n",
    "\n",
    "carti_student1=preferinte.get(student1).copy()\n",
    "carti_student2=preferinte.get(student2).copy()\n",
    "\n",
    "for i in preferinte.get(student1):\n",
    "    if i in carti_student2:\n",
    "        carti_student2.remove(i)\n",
    "        carti_student1.remove(i)\n",
    "if len(carti_student1)==0 and len(carti_student2)==0:\n",
    "            print('Preferintele sunt deja identice')\n",
    "if len(carti_student1)!=0:\n",
    "    print ('Sterge:', carti_student1)\n",
    "if len(carti_student2) !=0:\n",
    "        print('Adauga:', carti_student2)\n",
    "print('\\nSubpunctul E')    \n",
    "\n",
    "def intersectie(lista1,lista2):\n",
    "    lista3=[]\n",
    "    for valoare in lista1:\n",
    "        if valoare in lista2:\n",
    "            lista3.append(valoare)      \n",
    "    return lista3\n",
    "\n",
    "for i in range(0,len(key_list)):\n",
    "    for j in range(1,len(key_list)):\n",
    "        if  i<j:\n",
    "            rez=intersectie(preferinte.get(key_list[i]), preferinte.get(key_list[j]))\n",
    "            if preferinte.get(key_list[i])==rez:\n",
    "                print(key_list[i],'este subset pentru ',key_list[j])\n",
    "            elif preferinte.get(key_list[j])==rez:\n",
    "                print(key_list[j],'este subset pentru ',key_list[i])"
   ]
  },
  {
   "cell_type": "code",
   "execution_count": 7,
   "metadata": {},
   "outputs": [
    {
     "name": "stdout",
     "output_type": "stream",
     "text": [
      "Popescu  Ionescu  sunt disponibili in intervalul:  13-13.30\n",
      "Popescu  Ionescu  sunt disponibili in intervalul:  13.30-14.00\n",
      "Popescu  Ionescu  sunt disponibili in intervalul:  17-17.30\n",
      "Ionescu  Maximilian  sunt disponibili in intervalul:  15-15.30\n"
     ]
    }
   ],
   "source": [
    "#7.Se da un dictionar cu persoane, si pentru fiecare persoana o lista de intervale de timp de disponibilitate.\n",
    "#O disponibilitate incepe la o anumita ora fixa (ex: 17) sau ora fixa+30 de minute si dureaza exact 30 de minute. Exemplu:\n",
    "#doodle = {\n",
    "#\"Popescu\": [\"13\", \"13.30\", \"16\", \"17\"],  # Popescu este disponibil intre: 13 si 13.30, 13.30-14, 16-16.30, 17-17.30\n",
    "#\"Ionescu\": [\"13\", \"13.30\", \"16\", \"17\", \"17.30\", \"11\", \"15\"],\n",
    "#\"Maximilian\": [\"14\", \"14.30\", \"15\", \"15.30\", \"16\", \"16.30\", \"19\", \"19.30\"]\n",
    "#}\n",
    "#Sa se determine toate intervalele in care toate persoanele sunt disponibile. \n",
    "#Daca nu exista niciun astfel de interval, atunci sa se determine care sunt intervalele de timp in care numarul maxim de \n",
    "#persoane poate participa. Daca sunt mai multe intervale pentru acest numar maxim de persoane, se vor da toate solutiile. \n",
    "#In fiecare caz se da lista de persoane participante si intervalele orare.\n",
    "#Nota: se cauta intervale de timp cu cat mai multi participanti de 30 de minute.\n",
    "\n",
    "doodle = {\n",
    "\"Popescu\": [\"13\", \"13.30\", \"7\", \"17\"],\n",
    "\"Ionescu\": [\"13\", \"13.30\", \"9\", \"17\", \"17.30\", \"11\", \"15\"],\n",
    "\"Maximilian\": [\"14\", \"14.30\", \"15\", \"15.30\", \"16\", \"16.30\", \"19\", \"19.30\"]\n",
    "}\n",
    "\n",
    "def printInterval(hour):\n",
    "    if \".30\" in hour:\n",
    "        number=float(hour)+0.7\n",
    "    else:\n",
    "        number=float(hour)+0.3\n",
    "    print(f\"{hour}-{'%.2f'%number}\")\n",
    "\n",
    "result=set(doodle[next(iter(doodle))])\n",
    "for s in doodle.values():\n",
    "    result.intersection_update(s)\n",
    "if result != set():\n",
    "    print(f\"Toate cele {len(doodle)} persoane sunt disponibile in intervalele: \")\n",
    "    for element in result:\n",
    "        printInterval(element)\n",
    "else:\n",
    "    allHours = []\n",
    "    allNames = []\n",
    "    for key in doodle:\n",
    "        for value in doodle[key]:\n",
    "            allHours.append(value)\n",
    "            allNames.append(key)\n",
    "    count = {}\n",
    "    index = 0\n",
    "    for element in allHours:\n",
    "        if count.get(element) == None:\n",
    "            count[element] = [1, [index]]\n",
    "        else:\n",
    "            count[element][0] = count[element][0] + 1\n",
    "            count[element][1].append(index)\n",
    "        index += 1\n",
    "    maxElement = -1\n",
    "    for i in count.values():\n",
    "        if i[0] > maxElement:\n",
    "            maxElement = i[0]\n",
    "    for key in count:\n",
    "        if count[key][0] == maxElement:\n",
    "            for pos in count[key][1]:\n",
    "                print(allNames[pos] + \" \", end=\" \")\n",
    "            print(\"sunt disponibili in intervalul: \", end=\" \")\n",
    "            printInterval(key)"
   ]
  },
  {
   "cell_type": "code",
   "execution_count": 8,
   "metadata": {},
   "outputs": [
    {
     "name": "stdout",
     "output_type": "stream",
     "text": [
      "Salariul mediu este: 2875.0\n",
      "Salariul minim este: 2000\n",
      "Salariul maxim este: 4000\n"
     ]
    }
   ],
   "source": [
    "#8.Se da o lista de dictionare de forma:\n",
    "#[\n",
    "#{\"nume\": \"Popescu\",\n",
    "#\"gen\": feminin,\n",
    "#\"varsta\": 30,\n",
    "#\"salariu\": 2000,\n",
    "#\"animal preferat\": \"pisica\",\n",
    "#},\n",
    "#{\"nume\": \"Irimia\",\n",
    "#\"varsta\": 40,\n",
    "#\"gen\": \"masculin\"\n",
    "#\"salariu\": 3000,\n",
    "#\"animal preferat\": \"caine\"\n",
    "#},\n",
    " # etc\n",
    "#]\n",
    "\n",
    "#Sa se determine:\n",
    "#A.salariul mediu, minim si maxim\n",
    "\n",
    "lista = [\n",
    "        {\"nume\": \"Popescu\",\n",
    "        \"gen\": \"feminin\",\n",
    "        \"varsta\": 30,\n",
    "        \"salariu\": 2000,\n",
    "        \"animal preferat\": \"caine\",\n",
    "        },\n",
    "        {\"nume\": \"Irimia\",\n",
    "        \"varsta\": 40,\n",
    "        \"gen\": \"masculin\",\n",
    "        \"salariu\": 3000,\n",
    "        \"animal preferat\": \"pisica\"\n",
    "        },\n",
    "        {\"nume\": \"Marin\",\n",
    "        \"gen\": \"feminin\",\n",
    "        \"varsta\": 27,\n",
    "        \"salariu\": 2500,\n",
    "        \"animal preferat\": \"pisica\",\n",
    "        },\n",
    "        {\"nume\": \"Nastase\",\n",
    "        \"gen\": \"masculin\",\n",
    "        \"varsta\": 50,\n",
    "        \"salariu\": 4000,\n",
    "        \"animal preferat\": \"papagal\",\n",
    "        }\n",
    "]\n",
    "salariuMediu = 0\n",
    "for persoana in lista:\n",
    "    salariuMediu += persoana[\"salariu\"]\n",
    "print(f\"Salariul mediu este: {salariuMediu/len(lista)}\")   \n",
    "\n",
    "newList = sorted(lista, key = lambda value : value[\"salariu\"])\n",
    "\n",
    "salariuMinim = newList[0][\"salariu\"]\n",
    "print(f\"Salariul minim este: {salariuMinim}\")\n",
    "\n",
    "salariuMaxim = newList[-1][\"salariu\"]\n",
    "print(f\"Salariul maxim este: {salariuMaxim}\")"
   ]
  },
  {
   "cell_type": "code",
   "execution_count": 9,
   "metadata": {},
   "outputs": [
    {
     "name": "stdout",
     "output_type": "stream",
     "text": [
      "{'nume': 'Popescu', 'gen': 'feminin', 'varsta': 30, 'salariu': 2000, 'animal preferat': 'caine'}\n",
      "{'nume': 'Marin', 'gen': 'feminin', 'varsta': 27, 'salariu': 2500, 'animal preferat': 'pisica'}\n"
     ]
    }
   ],
   "source": [
    "#B.cei care au varsta intr-un anumit interval dat [a, b]\n",
    "\n",
    "def getAge(a,b):\n",
    "    newList = []\n",
    "    for dictionar in lista:\n",
    "        if dictionar[\"varsta\"] >= a and dictionar[\"varsta\"] <= b:\n",
    "            newList.append(dictionar)\n",
    "    return newList\n",
    "\n",
    "#Persoanele cu varsta in intervalul [20,30]\n",
    "\n",
    "#print(getAge(20,30))\n",
    "\n",
    "result =getAge(20,30)\n",
    "for element in result:\n",
    "    print(element)"
   ]
  },
  {
   "cell_type": "code",
   "execution_count": 10,
   "metadata": {},
   "outputs": [
    {
     "name": "stdout",
     "output_type": "stream",
     "text": [
      "Animalul preferat este: pisica "
     ]
    }
   ],
   "source": [
    "#C.care este animalul cu cele mai multe preferinte. Daca sunt mai multe astfel de animale, atunci se vor da toate\n",
    "\n",
    "counter = {}\n",
    "\n",
    "for dictionar in lista:\n",
    "    if counter.get(dictionar[\"animal preferat\"]) == None:\n",
    "        counter[dictionar[\"animal preferat\"]] = 1\n",
    "    else:\n",
    "        counter[dictionar[\"animal preferat\"]] += 1\n",
    "maxElement = -1\n",
    "for value in counter.values():\n",
    "    if value > maxElement:\n",
    "        maxElement = value\n",
    "\n",
    "print(\"Animalul preferat este:\", end = \" \")\n",
    "\n",
    "for animal in counter:\n",
    "    if counter[animal] == maxElement:\n",
    "        print(animal, end = \" \")"
   ]
  },
  {
   "cell_type": "code",
   "execution_count": 11,
   "metadata": {},
   "outputs": [
    {
     "name": "stdout",
     "output_type": "stream",
     "text": [
      "In lista avem 2 femei si 2 barbati.\n"
     ]
    }
   ],
   "source": [
    "#D.cate persoane de gen feminin si respectiv masculin sunt in lista\n",
    "\n",
    "countFeminin = 0\n",
    "countMasculin = 0\n",
    "for persoana in lista:\n",
    "    if persoana[\"gen\"] == \"feminin\":\n",
    "        countFeminin += 1\n",
    "    else:\n",
    "        countMasculin += 1\n",
    "print(f\"In lista avem {countFeminin} femei si {countMasculin} barbati.\")"
   ]
  },
  {
   "cell_type": "code",
   "execution_count": null,
   "metadata": {},
   "outputs": [],
   "source": []
  },
  {
   "cell_type": "code",
   "execution_count": null,
   "metadata": {},
   "outputs": [],
   "source": []
  }
 ],
 "metadata": {
  "kernelspec": {
   "display_name": "Python 3",
   "language": "python",
   "name": "python3"
  },
  "language_info": {
   "codemirror_mode": {
    "name": "ipython",
    "version": 3
   },
   "file_extension": ".py",
   "mimetype": "text/x-python",
   "name": "python",
   "nbconvert_exporter": "python",
   "pygments_lexer": "ipython3",
   "version": "3.8.5"
  }
 },
 "nbformat": 4,
 "nbformat_minor": 5
}
