{
 "cells": [
  {
   "cell_type": "markdown",
   "metadata": {},
   "source": [
    "# Exercitii `ipywidgets`:\n",
    "\n",
    "Problema 1. (2 puncte) Definiti o functie polinomiala de gradul 3, $f:\\mathbb{R} \\rightarrow \\mathbb{R}$, cu coeficienti constanti prestabiliti. Aplicati algoritmul gradient descent pentru a vedea cum evolueaza cautarea minimului. Folositi minim doua controale ipywidgets: unul pentru pozitia initiala a lui $x$, altul pentru coeficientul $\\alpha>0$ cu care se inmulteste gradientul. Gradientul va fi calculat analitic de voi sau folosind biblioteca [autograd](https://github.com/HIPS/autograd). \n",
    "Modificarea facuta prin metoda gradient descent este:\n",
    "$$\n",
    "x = x - \\alpha \\cdot f'(x)\n",
    "$$\n",
    "Se vor efectua minim 10 iteratii (optional: numarul de iteratii poate fi dat printr-un control ipywidgets), se vor marca pe grafic pozitiile succesive, in mod convenabil."
   ]
  },
  {
   "cell_type": "code",
   "execution_count": 1,
   "metadata": {},
   "outputs": [
    {
     "name": "stdout",
     "output_type": "stream",
     "text": [
      "IPywidgets version: 7.5.1\n",
      "NumPy version: 1.19.2\n",
      "Matplotlib version: 3.3.2\n"
     ]
    }
   ],
   "source": [
    "import ipywidgets as widgets\n",
    "print(f'IPywidgets version: {widgets.__version__}')\n",
    "\n",
    "import numpy as np\n",
    "print(f'NumPy version: {np.__version__}')\n",
    "\n",
    "import matplotlib.pyplot as plt\n",
    "import matplotlib\n",
    "print(f'Matplotlib version: {matplotlib.__version__}')"
   ]
  },
  {
   "cell_type": "code",
   "execution_count": 29,
   "metadata": {},
   "outputs": [],
   "source": [
    "from ipywidgets import interact, fixed\n",
    "from typing import List\n",
    "import pandas as pd\n",
    "from scipy.interpolate import griddata\n",
    "from scipy.interpolate import LinearNDInterpolator\n",
    "from random import randint\n",
    "from scipy.interpolate import NearestNDInterpolator\n",
    "from scipy.interpolate import CloughTocher2DInterpolator\n",
    "from scipy.interpolate import Rbf\n",
    "import pylab as py"
   ]
  },
  {
   "cell_type": "code",
   "execution_count": 3,
   "metadata": {},
   "outputs": [
    {
     "data": {
      "application/vnd.jupyter.widget-view+json": {
       "model_id": "fcd4cff30c5842bcb38bb4ca503f54ff",
       "version_major": 2,
       "version_minor": 0
      },
      "text/plain": [
       "interactive(children=(IntSlider(value=-5, description='x', max=20, min=-5), FloatSlider(value=1e-05, descripti…"
      ]
     },
     "metadata": {},
     "output_type": "display_data"
    }
   ],
   "source": [
    "f = lambda x: x ** 3 + 2 * x ** 2 + 4 *x - 2\n",
    "f_prime = lambda x: 3 * x ** 2 + 4 * x + 4\n",
    "\n",
    "xf: np.ndarray = np.linspace(-20, 20, 100)\n",
    "yf: np.ndarray = f(xf)\n",
    "\n",
    "def sgd_plot(xf, yf, res: List[float] = None, title: str = 'Functia $f(x)=x^3 + 4 \\cdot x^2 + 9 \\cdot x - 20$') -> None:\n",
    "    \"\"\"\n",
    "    Functie care afiseaza graficul\n",
    "    \n",
    "    :param xf: np.ndarray care contine 100 de puncte in intervalul (-20,20), adica domeniul functiei\n",
    "    :param yf: np.ndarray care contine valorile functiei in punctele din xf, codomeniul functiei\n",
    "    :param res: o lista care poate sa contina mai multe valori, caz in care adauga si aceasta functie in grafic\n",
    "    :param title: string ce contine titlul graficului(functiei)\n",
    "    :returns: None\n",
    "    \"\"\"\n",
    "    _, ax = plt.subplots(1, 1, figsize=(10, 5))\n",
    "    ax.plot(xf, yf)\n",
    "    if res is not None:\n",
    "        ax.plot(res, [f(x) for x in res], 'o--')\n",
    "    ax.set_title(title)\n",
    "    ax.grid() ; plt.show()\n",
    "\n",
    "def sgd(x: int, alpha: float, epochs: int) ->list:\n",
    "    \"\"\"\n",
    "    Functie care cauta minimul\n",
    "    \n",
    "    :param x: int pentru pozitia initiala\n",
    "    :param alpha: float pentru rata de invatare\n",
    "    :param epochs: int pentru numarul de epoci(interatii)\n",
    "    :returns: o lista de float-uri ce reprezinta traiectoria\n",
    "    \"\"\"\n",
    "    res = [x]\n",
    "    for _ in range(epochs):\n",
    "        x -= alpha * f_prime(x)\n",
    "        res += [x]\n",
    "    return res\n",
    "\n",
    "def SGD(x: int = -5, alpha: float = 0.00001, epochs: int = 10) -> None:\n",
    "    \"\"\"\n",
    "    Functie care apeleaza functiile sgd si sgd_plot, facilitand interactiunea utilizatorului cu graficul pentru ca va fi folosita cu interact\n",
    "    \n",
    "    :param x: int pentru pozitia initiala\n",
    "    :param alpha: float pentru rata de invatare\n",
    "    :param epochs: int pentru numarul de epoci(interatii)\n",
    "    :returns: None\n",
    "    \"\"\"\n",
    "    res = sgd(x, alpha, epochs)\n",
    "    sgd_plot(xf, yf, res, title=f'$f(x)=x^3 + 2 \\cdot x^2 + 4 \\cdot x - 2$, start x: {x}, alpha={alpha}')\n",
    "    \n",
    "interact(SGD, x = (-5,20), alpha = (0.00001, 0.01, 0.00001), epochs = (10, 50));\n",
    "\n"
   ]
  },
  {
   "cell_type": "markdown",
   "metadata": {},
   "source": [
    "Problema 2. (3 puncte) Generati o lista de $n=100$ de perechi de valori $\\{x_i, y_i\\}_{i=0,n-1}$ in intervalul [-20, 10), afisati aceste valori pe un grafic, impreuna cu o dreapta definita de o functie liniara $y=a \\cdot x+b$. Intr-un alt plot afisati, ca histograma, distanta dintre punctele de coordonate $(x_i, y_i)$ si punctele de intersectie ale verticalelor duse prin $x_i$ cu dreapta data, $\\hat{y}_i$. Dreapta trebuie sa fie controlabila din widgets, prin cei doi coeficienti $a$ si $b$. Constatati modificarea histogramei in functie de pozitia dreptei si afisati mean squared error: $$MSE=\\frac{1}{n} \\cdot \\sum_{i=0}^{n-1} (y_i - (a\\cdot x_i + b))^2$$\n",
    "*Indicatii:*\n",
    "1. Pentru generare de valori distribuite uniform in intervalul [0, 1) puteti folosi functia [numy.random.uniform](https://docs.scipy.org/doc/numpy/reference/generated/numpy.random.uniform.html) si sa faceti inmultire si adunare in mod convenabil.\n",
    "1. Puteti opta sa returnati cele $n$ puncte sub forma `vector_x`, `vector_y`.\n"
   ]
  },
  {
   "cell_type": "code",
   "execution_count": 4,
   "metadata": {
    "scrolled": true
   },
   "outputs": [
    {
     "data": {
      "application/vnd.jupyter.widget-view+json": {
       "model_id": "6ea1b72164de4bb59d1a400daab8a879",
       "version_major": 2,
       "version_minor": 0
      },
      "text/plain": [
       "interactive(children=(FloatSlider(value=0.0, description='a', max=5.0, min=-5.0), FloatSlider(value=0.0, descr…"
      ]
     },
     "metadata": {},
     "output_type": "display_data"
    }
   ],
   "source": [
    "from sklearn.metrics import mean_squared_error \n",
    "\n",
    "vector_x: np.ndarray = np.random.uniform(-20,10, 100)\n",
    "vector_y: np.ndarray = np.random.uniform(-20,10, 100)\n",
    "\n",
    "def linear_function(vector_x, vector_y, a: float, b: float, bins_nr: int = 100) -> None:\n",
    "    \"\"\"\n",
    "    Functie care afiseaza graficul functiei a*x+b, 100 de puncte alese aleatoriu si realizeaza o histograma cu distanta dintre punctele alese si punctele de intersectie ale verticalelor duse pe graficul functiei.\n",
    "    De asemenea, afiseaza si MSE(mean squared error).\n",
    "    \n",
    "    :param vector_x:  np.ndarray ce contine pozitiile pe axa x a punctelor alese aleatoriu\n",
    "    :param vector_y:  np.ndarray ce contine pozitiile pe axa y a punctelor alese aleatoriu\n",
    "    :param a: float ce reprezinta primul coeficient al functiei\n",
    "    :param b: float ce reprezinta al doilea coeficient al functiei\n",
    "    :param bins_nr: int ce reprezinta numarul de bins uri pe care dorim sa-l reprezentam in histograma\n",
    "    :returns: None\n",
    "    \"\"\"\n",
    "    f = lambda x: a* x + b\n",
    "    xf: np.ndarray = np.linspace(-20, 10, 100)\n",
    "    yf: np.ndarray = f(xf)\n",
    "    \n",
    "    plt.figure(figsize=(10, 5))\n",
    "    plt.grid(axis='both')\n",
    "    plt.axhline(y=0, color='k')\n",
    "    plt.axvline(x=0, color='k')\n",
    "    plt.xlabel('x')\n",
    "    plt.ylabel(f'${a} \\cdot x + {b}$')\n",
    "    plt.plot(xf, yf, vector_x, vector_y, 'ro')\n",
    "    plt.show()\n",
    "    \n",
    "    intersection_y: np.ndarray = f(vector_x)\n",
    "    distances: np.ndarray = np.abs(vector_y - intersection_y)\n",
    "    \n",
    "    plt.figure(figsize=(10, 5))\n",
    "    plt.xlabel('Distances')\n",
    "    plt.ylabel('Occurrences')\n",
    "    plt.hist(distances, bins = bins_nr)\n",
    "    plt.show()\n",
    "    \n",
    "    MSE: float = np.square(np.subtract(yf, intersection_y)).mean() \n",
    "    print(MSE)\n",
    "    print(mean_squared_error(yf, intersection_y))\n",
    "    \n",
    "interact(linear_function, vector_x = fixed(vector_x), vector_y = fixed(vector_y), a = (-5,5.0), b = (-5,5.0), bins_nr = (1,100));"
   ]
  },
  {
   "cell_type": "markdown",
   "metadata": {},
   "source": [
    "Problema 3. (2 puncte) Incarcati fisierul iris.data din setul de date iris\n",
    "(https://archive.ics.uci.edu/ml/datasets/iris). In functie de alegerile exprimate de un utilizator, afisati intr-un grafic\n",
    "2D coloanele numerice alese (de exemplu, coloana 0 si coloana 2). Numele coloanelor se afla in fisierul\n",
    "iris.names"
   ]
  },
  {
   "cell_type": "code",
   "execution_count": 28,
   "metadata": {},
   "outputs": [
    {
     "data": {
      "application/vnd.jupyter.widget-view+json": {
       "model_id": "3c1ac6e2aeed494ba9a1a19dfea11868",
       "version_major": 2,
       "version_minor": 0
      },
      "text/plain": [
       "interactive(children=(Dropdown(description='atribut1', options={'sepal length in cm': 0, 'sepal width in cm': …"
      ]
     },
     "metadata": {},
     "output_type": "display_data"
    }
   ],
   "source": [
    "def g(atribut1:int,atribut2:int)->None:\n",
    "    \n",
    "    \"\"\"\n",
    "    Functia afiseaza graficul 2D avand pe axele x si y atributele selectate\n",
    "    :param atribut1: reprezinta valoarea de la cheia aleasa din meniul dropdown pentru axa x, tip int\n",
    "    :param atribut2: reprezinta valoarea de la cheia aleasa din meniul dropdown pentru axa y, tip int\n",
    "    :returns: None\n",
    "    \"\"\"\n",
    "    data1:list = [values[atribut1], values[4]]\n",
    "    d1= pd.concat(data1, axis=1)\n",
    "    data2= [values[atribut2], values[4]]\n",
    "    d2= pd.concat(data2, axis=1)\n",
    "    \n",
    "    col1:list=[]\n",
    "\n",
    "    for i in d1[4]:\n",
    "        if i =='Iris-setosa':\n",
    "            col1.append('blue')\n",
    "        elif i==\"Iris-versicolor\":\n",
    "            col1.append('black')\n",
    "        elif i==\"Iris-virginica\" :\n",
    "            col1.append(\"pink\")\n",
    "    for i in range(len(d1[4])):\n",
    "        plt.scatter(d1[atribut1][i],d2[atribut2][i],c=col1[i])\n",
    "    plt.xlabel('atribut1')\n",
    "    plt.ylabel('atribut2')\n",
    "    plt.legend([\"Iris-setosa\",\"Iris-versicolor\",\"Iris-virginica\"], loc =\"lower right\") \n",
    "    ax = plt.gca()\n",
    "    leg = ax.get_legend()\n",
    "    leg.legendHandles[0].set_color('blue')\n",
    "    leg.legendHandles[1].set_color('black')\n",
    "    leg.legendHandles[2].set_color('pink')\n",
    "    plt.show()\n",
    "    \n",
    "    \n",
    "values=pd.read_csv(\"iris.data\" , header=None)\n",
    "interact(g, \n",
    "         atribut1 = {\n",
    "    'sepal length in cm':0,\n",
    "    'sepal width in cm' :1,\n",
    "    'petal length in cm':2,\n",
    "    'petal width in cm' :3\n",
    "}, \n",
    "         atribut2 = {\n",
    "    'sepal length in cm':0,\n",
    "    'sepal width in cm' :1,\n",
    "    'petal length in cm':2,\n",
    "    'petal width in cm' :3\n",
    "});\n"
   ]
  },
  {
   "cell_type": "markdown",
   "metadata": {},
   "source": [
    "Problema 4 (3 puncte) Generati  𝑛  perechi de puncte aleatoare, folosind o functie  𝑓:ℝ→ℝ  de alease e voi (de exemplu: functie polinomiala + zgomot aleator adaugat). Alegeti 5 metode de interpolare din scipy.interpolate si reprezentati grafic valorile interpolate. Folositi controale ipywidgets cel putin pentru alegerea lui  𝑛  si a metodei de interpolare aleasa."
   ]
  },
  {
   "cell_type": "code",
   "execution_count": 30,
   "metadata": {},
   "outputs": [
    {
     "data": {
      "application/vnd.jupyter.widget-view+json": {
       "model_id": "c346f80f62b5435eb4e63bb7f2e489fa",
       "version_major": 2,
       "version_minor": 0
      },
      "text/plain": [
       "interactive(children=(IntSlider(value=502, description='n', max=1000, min=5), Dropdown(description='option', o…"
      ]
     },
     "metadata": {},
     "output_type": "display_data"
    }
   ],
   "source": [
    "def func(xcoord:int, ycoord:int)->int:\n",
    "    \"\"\"\n",
    "    Functia asupra careia se realizeaza interpolarea\n",
    "    :param xcoord :valoarea de pe axa x\n",
    "    :param ycoord : valoarea de pe axa y\n",
    "    :returns: valoarea functiei\n",
    "    \"\"\"\n",
    "    return xcoord**3+2*ycoord+1\n",
    "\n",
    "def g(n:int,option:int)->None:\n",
    "    \"\"\"\n",
    "    Functia afiseaza garficul functiei interpolate prin 5 metode din scipy.interpolate\n",
    "    :param n : numar random folosit pentru dimensiunile array-urilor sau pentru valorile acestora\n",
    "    :param option: reprezinta valoarea de la cheia aleasa din mediul dropdown , indica metoda de interpolare\n",
    "    :returns: None\n",
    "    \"\"\"\n",
    "    if option==0:\n",
    "        points = np.random.rand(n, 2)\n",
    "        grid_x, grid_y = np.mgrid[0:1:100j, 0:1:200j]\n",
    "        values = func(points[:,0], points[:,1])\n",
    "        grid_z0 = griddata(points, values, (grid_x, grid_y), method='nearest')\n",
    "        plt.imshow(grid_z0.T, extent=(0,1,0,1), origin='lower')\n",
    "        plt.title('Nearest')\n",
    "        plt.gcf().set_size_inches(6, 6)\n",
    "        plt.show()\n",
    "    elif option==1:\n",
    "        x = np.random.uniform(-1,1,n) \n",
    "        y = np.random.uniform(-1,1,n)\n",
    "        fvals=func(x,y)\n",
    "        new_func=Rbf(x,y,fvals)\n",
    "        xnew,ynew=np.mgrid[-1:1:100j,-1:1:100j]\n",
    "        fnew=new_func(xnew,ynew)\n",
    "        py.figure(1)\n",
    "        py.clf()\n",
    "        py.imshow(fnew,extent=[-1,1,-1,1],cmap=py.cm.jet)\n",
    "        py.scatter(x,y,30,fvals,cmap=py.cm.jet)\n",
    "            \n",
    "    elif option==2:\n",
    "        x = np.random.random(n) - 0.5\n",
    "        y = np.random.random(n) - 0.5\n",
    "        z = func(x, y)\n",
    "        X = np.linspace(min(x), max(x))\n",
    "        Y = np.linspace(min(y), max(y))\n",
    "        X, Y = np.meshgrid(X, Y)  # 2D grid for interpolation\n",
    "        interp = LinearNDInterpolator(list(zip(x, y)), z)\n",
    "        Z = interp(X, Y)\n",
    "        plt.pcolormesh(X, Y, Z, shading='auto')\n",
    "        plt.plot(x, y,\"ok\")\n",
    "\n",
    "        plt.show()\n",
    "    elif option==3:\n",
    "        x = np.random.random(n) - 0.5\n",
    "        y = np.random.random(n) - 0.5\n",
    "        z = func(x, y)\n",
    "        X = np.linspace(min(x), max(x))\n",
    "        Y = np.linspace(min(y), max(y))\n",
    "        X, Y = np.meshgrid(X, Y)  # 2D grid for interpolation\n",
    "        interp = NearestNDInterpolator(list(zip(x, y)), z)\n",
    "        Z = interp(X, Y)\n",
    "        plt.pcolormesh(X, Y, Z, shading='auto')\n",
    "        plt.plot(x, y, \"ok\")\n",
    "        plt.show()\n",
    "    elif option==4:\n",
    "        x = np.random.random(n) - 0.5\n",
    "        y = np.random.random(n) - 0.5\n",
    "        z = func(x, y)\n",
    "        X = np.linspace(min(x), max(x))\n",
    "        Y = np.linspace(min(y), max(y))\n",
    "        X, Y = np.meshgrid(X, Y)  # 2D grid for interpolation\n",
    "        interp = CloughTocher2DInterpolator(list(zip(x, y)), z)\n",
    "        Z = interp(X, Y)\n",
    "        plt.pcolormesh(X, Y, Z, shading='auto')\n",
    "        plt.plot(x, y, \"ok\")\n",
    "        plt.show()\n",
    "\n",
    "   \n",
    "    \n",
    "interact(g,n=(5,1000),option={'Griddata ':0,'Rbf':1,'LinearNDInterpolator':2,\"NearestNDInterpolator\":3,'CloughTocher2DInterpolator':4});"
   ]
  },
  {
   "cell_type": "code",
   "execution_count": null,
   "metadata": {},
   "outputs": [],
   "source": []
  }
 ],
 "metadata": {
  "kernelspec": {
   "display_name": "Python 3",
   "language": "python",
   "name": "python3"
  },
  "language_info": {
   "codemirror_mode": {
    "name": "ipython",
    "version": 3
   },
   "file_extension": ".py",
   "mimetype": "text/x-python",
   "name": "python",
   "nbconvert_exporter": "python",
   "pygments_lexer": "ipython3",
   "version": "3.8.5"
  }
 },
 "nbformat": 4,
 "nbformat_minor": 4
}
