{
 "cells": [
  {
   "cell_type": "markdown",
   "metadata": {},
   "source": [
    "## Exercitii cu functii\n",
    "\n",
    "1. Scrieti o functie care determina daca un numar este egal cu suma divizorilor sai, mai putin numarul insusi. \n",
    "\n",
    "Exemplu: divizorii lui 6 sunt 1, 2, 3, 6; suma celor mai mici decat 6 este 1+2+3=6=numarul de plecare. Numarul 8 nu este in aceasta situatie: $8 \\ne 1+2+4=7$. Folositi aceasta functie pentru a afisa toate numere cu proprietatea ceruta pana la un $n$ dat."
   ]
  },
  {
   "cell_type": "code",
   "execution_count": 3,
   "metadata": {},
   "outputs": [
    {
     "name": "stdout",
     "output_type": "stream",
     "text": [
      "[6, 28]\n"
     ]
    }
   ],
   "source": [
    "from typing import List\n",
    "\n",
    "def sumOfDivisor(number: int) -> bool:\n",
    "    \"\"\"\n",
    "    Function to check if the number given as input is equal with the sum of it's divisors(excluding the number itself)\n",
    "    \n",
    "    :param number: integer representing the number we want to check(higher then 0)\n",
    "    :returns: True or False if the condition for the number given as input is satisfied\n",
    "    \"\"\"\n",
    "    divisors: List[int] = [i for i in range(1, number) if number % i == 0]\n",
    "    if sum(divisors) == number:\n",
    "        return True\n",
    "    return False\n",
    "\n",
    "assert sumOfDivisor(8) == False\n",
    "assert sumOfDivisor(6) == True\n",
    "\n",
    "def getAllNumbers(n: int) -> None:\n",
    "    \"\"\"\n",
    "    Function to print all numbers that check the condition from sumOfDivisor function in a given range\n",
    "    \n",
    "    :param n: integer representing the highbound of the range that needs to be checked\n",
    "    :returns: None\n",
    "    \"\"\"\n",
    "    lista: List[int]= [number for number in range(1, n) if sumOfDivisor(number)]\n",
    "    print(lista)\n",
    "    \n",
    "getAllNumbers(100)"
   ]
  },
  {
   "cell_type": "markdown",
   "metadata": {},
   "source": [
    "2.Scrieti o functie care determina daca un sir de caractere - presupus a fi scris cu litere mici - este sau nu palindrom. Un palindrom este un sir de caractere care citit de la dreapta la stanga are acelasi continut ca si citirea de la stanga la dreapta. In functie de valoarea unui indicator boolean ignore_spaces, avand valoarea implicita False, se vor ignora (elimina) sau nu spatiile. Daca sirul dat ca parametru nu are toate literele mici, se va arunca exceptie;\n",
    "\n"
   ]
  },
  {
   "cell_type": "code",
   "execution_count": 10,
   "metadata": {},
   "outputs": [
    {
     "name": "stdout",
     "output_type": "stream",
     "text": [
      "False\n",
      "True\n",
      "True\n",
      "False\n"
     ]
    }
   ],
   "source": [
    "\n",
    "def is_palindrome(sir:str, ignore_spaces=False)->bool:\n",
    "    \"\"\"\n",
    "    Functia returneaza daca un numar este palindrom\n",
    "    \n",
    "    :param1= sirul de caractere care trebuie analizat\n",
    "    :param2= variabila booleana care indica daca spatiile sunt ignorate sau nu\n",
    "    :returns:Functia returneaza True in cazul in care cuvantul este palindrom sau False in caz contrar\n",
    "    :reises:Functia returneaza exceptie in cazul in care literele din sir nu sunt toate litere mici\n",
    "    \n",
    "    \"\"\"\n",
    "        \n",
    "    if sir.islower():\n",
    "            if ignore_spaces==False:\n",
    "                sir_length=len(sir)\n",
    "                sir2=sir[sir_length::-1]\n",
    "                if sir==sir2:\n",
    "                    return True\n",
    "                else:\n",
    "                    return False\n",
    "            else:\n",
    "                sir3=sir.replace(\" \", \"\")\n",
    "                sir_length=len(sir3)\n",
    "                sir2=sir3[sir_length::-1]\n",
    "                if sir3==sir2:\n",
    "                    return True\n",
    "                else:\n",
    "                    return False\n",
    "    else:\n",
    "            raise Exception(\"Nu sunt toate litere mici\")\n",
    "        \n",
    "print(is_palindrome(\"ele fac cafele\"))\n",
    "        \n",
    "print(is_palindrome(\"ele fac cafele\",True))\n",
    "        \n",
    "print(is_palindrome(\"ele\"))\n",
    "        \n",
    "print(is_palindrome(\"cafele\"))\n",
    "#print(is_palindrome(\"Ele fac cafele\"))        \n",
    "\n"
   ]
  },
  {
   "cell_type": "markdown",
   "metadata": {},
   "source": [
    "3. Sa se scrie o functie care primeste caile catre doua fisiere de tip text. Despre fiecare fiecare se stie ca are cate un numar pe linie (numarul de linii din fisiere este necunoscut apriori). Functia va returna un tuplu cu: lista de numere care apar in ambele fisiere si diferenta maxima care exista intre numerele din al doilea fisier si numerele din primul fisier. Numerele pot fi cu semn, intregi sau in virgula mobila (functia trebuie sa mearga in orice situatie). Incercati sa folositi functii predefinite din Python (sau NumPy) si collection comprehension.\n",
    "\n",
    "Exemplu: a.txt contine numerele 1, 2, 3, 4 (cate unul pe linie). b.txt contine 2, 3, 4, 10 (cate un numar pe linie). Functia va returna tuplul `([2, 3, 4], 9)`. Numarul 9 este realizat de 10-1. "
   ]
  },
  {
   "cell_type": "code",
   "execution_count": 4,
   "metadata": {},
   "outputs": [
    {
     "name": "stdout",
     "output_type": "stream",
     "text": [
      "([2, 3, 4], 9)\n"
     ]
    }
   ],
   "source": [
    "from typing import Set, List, Tuple\n",
    "\n",
    "def numberFromFile(filePath1: str, filePath2: str) -> Tuple:\n",
    "    \"\"\"\n",
    "    Function to find the common elements in 2 lists and calculate the maximum difference between their elements\n",
    "    \n",
    "    :param filePath1: string representing the path to the first text file\n",
    "    :param filePath2: string representing the path to the second text file\n",
    "    :returns: a Tuple that contains a list with the common elements of the 2 lists given as input and an integer representing \n",
    "    the maximum difference\n",
    "    \"\"\"\n",
    "    numbersFile1: Set[str] = set(open(filePath1, 'r').read().split())\n",
    "    numbersFile2: Set[str] = set(open(filePath2, 'r').read().split())\n",
    "    \n",
    "    isFloat: bool = any(\".\" in element for element in numbersFile1.union(numbersFile2))\n",
    "    \n",
    "    if isFloat == True:\n",
    "        commonNumbers: List[float] = [float(number) for number in numbersFile1.intersection(numbersFile2)]\n",
    "        file1: List[float] = [float(number) for number in numbersFile1]\n",
    "        file2: List[float] = [float(number) for number in numbersFile2]\n",
    "    else:\n",
    "        commonNumbers: List[int] = [int(number) for number in numbersFile1.intersection(numbersFile2)]\n",
    "        file1: List[int] = [int(number) for number in numbersFile1]\n",
    "        file2: List[int] = [int(number) for number in numbersFile2]\n",
    "        \n",
    "    difference1: int = max(file1) - min(file2)\n",
    "    difference2: int = max(file2) - min(file1)\n",
    "    result: int = max(difference1, difference2)\n",
    "    return (commonNumbers, result)\n",
    "print (numberFromFile(\"file1.txt\", \"file2.txt\"))"
   ]
  },
  {
   "cell_type": "markdown",
   "metadata": {},
   "source": [
    "4.Sa se scrie o functie sum_divisors_digitscare preia un numar natural strict pozitiv  𝑛  si returneaza suma cifrelor divizorilor sai. Intr-o alta functie black_hole se apeleaza in mod repetat sum_divisors_digits pe numerele rezultate, pana cand se atinge un numar maxim de iteratii (implicit 1000) sau se ajunge la numarul 15. Puteti crea alte functii auxiliare.\n",
    "Exemplul 1: se pleaca de la  𝑛=15 ; divizorii sunt  1,3,5,15 ; suma cifrelor divizorilor este  1+3+5+1+5=15 , acesta fiind rezultatul apelului sum_divisors_digits(15). Functia black_hole se opreste deci dupa un singur apel al functiei sum_divisors_digits.\n",
    "\n",
    "Exemplul 2: se pleaca de la  𝑛=21 ; divizorii sunt  1,3,7,21  iar sum_divisors_digits(21) este  1+3+7+2+1=14 ; se reia in functia black_hole apelul functiei sum_divisors_digits pana la epuizarea numarului de apeluri sau potentiala stabilizare in 15."
   ]
  },
  {
   "cell_type": "code",
   "execution_count": 11,
   "metadata": {},
   "outputs": [
    {
     "name": "stdout",
     "output_type": "stream",
     "text": [
      "15 None\n",
      "14 15 None\n",
      "51 18 30 27 22 9 13 5 6 12 19 11 3 4 7 8 15 None\n"
     ]
    }
   ],
   "source": [
    "import math \n",
    "def sum_digits(nr:int)->int:\n",
    "    \"\"\"\n",
    "      Functia calculeaza suma cifrelor unui numar\n",
    "      \n",
    "     :param nr:numar natural cu una sau mai multe cifre\n",
    "     :returns:Returneaza suma cifrelor unui numar natural\n",
    "     :reises:Returneaza exceptie in cazul in care parametrul este < 0\n",
    "    \"\"\"\n",
    "    if nr>0:\n",
    "        if nr<9:\n",
    "             return nr\n",
    "        else:\n",
    "            digits=[int(x) for x in str(nr)]\n",
    "            return sum(digits)\n",
    "    else:\n",
    "        raise Exception(\"Numar invalid.Trebuie sa adaugi un numar pozitiv\")\n",
    "        \n",
    "    \n",
    "def sum_divisors_digits(n:int)->int:\n",
    "    \"\"\"\n",
    "    Functia calculeaza suma cifrelor divizorilor unui numar\n",
    "    :param n= numar natural\n",
    "    :returns:Functia returneaza suma cifrelor divizorilor numarului dat ca parametru\n",
    "    :reises:Functia returneaza exceptie daca numarul dat ca parametru este negativ \n",
    "    \"\"\"\n",
    "    lista=[]\n",
    "    if n>0:\n",
    "        for i in range(1,int (math.sqrt(n)+1)):\n",
    "                if n%i==0:\n",
    "                    if n/i==i:\n",
    "                        lista.append(sum_digits(i))\n",
    "                    else:\n",
    "                        n1=int(n/i)\n",
    "                        lista.append(sum_digits(n1))\n",
    "                        lista.append(sum_digits(i))\n",
    "        return sum(lista)  \n",
    "    else:\n",
    "        raise Exception(\"Numar invalid.Trebuie sa adaugi un numar pozitiv\")\n",
    "        \n",
    "def black_hole(n:int)->None:\n",
    "    \"\"\"\n",
    "    Functia returneaza suma cifrelor divizorilor pentru numerele rezultate pana se atinge maximul de 1000 iteratii sau se stabilizeaza la 15\n",
    "     :param n:numar natural\n",
    "     :returns:None\n",
    "     \"\"\"\n",
    "    i=0\n",
    "    while i<1000 :\n",
    "        nr=sum_divisors_digits(n)\n",
    "        n=nr\n",
    "        if n==15:\n",
    "            print(n,end=\" \")\n",
    "            break\n",
    "        else:\n",
    "            print(n,end=\" \")\n",
    "        i=i+1\n",
    "        \n",
    "    \n",
    "#print(black_hole(-1))\n",
    "print(black_hole(15))\n",
    "print(black_hole(21))\n",
    "print(black_hole(78963))\n"
   ]
  },
  {
   "cell_type": "markdown",
   "metadata": {},
   "source": [
    "5. Sa se scrie o functie care primeste doua dictionare si returneaza `True` daca primul dictionar este continut in al doilea si `False` altfel. Spunem ca un dictionar `a` este continut in dictionarul `b` daca toate cheile din `a` se gasesc printre cheile din `b` si toate pentru orice cheie `c` din `a`, `a[c] == b[c]`. Incercati sa folositi functii predefinite din Python (`any, all`), tipuri de date incluse in Python si collection comprehension."
   ]
  },
  {
   "cell_type": "code",
   "execution_count": 7,
   "metadata": {},
   "outputs": [],
   "source": [
    "from typing import Dict\n",
    "\n",
    "def checkSubsetDict( dict1: Dict, dict2: Dict) -> bool:\n",
    "    \"\"\"\n",
    "    Function to check if the first dictionary is a subset for the second dictionary\n",
    "    :param dict1: first dictionary that we check if is a subset\n",
    "    :param dict2: second dictionary \n",
    "    \"\"\"\n",
    "    return all(item in dict2.items() for item in dict1.items())\n",
    "\n",
    "dict1 = {\n",
    "    'i': 1,\n",
    "    'd': 2,\n",
    "    's': 3\n",
    "}\n",
    "dict2 = {\n",
    "    't': 5,\n",
    "    'e': 6,\n",
    "    'm': 7,\n",
    "    'a': 8,\n",
    "    'i': 1,\n",
    "    'd': 2,\n",
    "    's': 3\n",
    "}\n",
    "\n",
    "assert checkSubsetDict( dict1, dict2) == True\n",
    "assert checkSubsetDict( dict2, dict1) == False"
   ]
  },
  {
   "cell_type": "markdown",
   "metadata": {},
   "source": [
    "## Exercitii cu NumPy\n",
    "\n",
    "1. Scrieti o functie care pentru un vector dat $a$ dat, returneaza diferenta de ordinul intai intre elementele sale: $b[i] = a[i+1]-a[i]$. Scrieti apoi o alta functie care face acelasi lucru pentru o matrice, pe linii sau pe coloane.\n",
    "\n",
    "Exemple: \n",
    "* `a = np.array([1, 2, 10, 3])`; `diff1_vector(a)` va returna vectorul NumPy cu continutul `(1, 8, -7)`.\n",
    "* `a  = np.array([[1, 2, 3], [40, 50, 60]])`; `diff1_mat(a, axis=0)` returneaza o matrice cu o singura linie, `[[39, 48, 57]]`. `diff1_mat(a, axis=1)` returneaza o matrice cu 2x2, `[[1, 1], [10, 10]]`. "
   ]
  },
  {
   "cell_type": "code",
   "execution_count": 8,
   "metadata": {},
   "outputs": [
    {
     "name": "stdout",
     "output_type": "stream",
     "text": [
      "Vectorul NumPy rezultat este: [ 1  8 -7]\n",
      "Matricea rezultata este: [[39 48 57]]\n",
      "Matricea rezultata este: [[ 1  1]\n",
      " [10 10]]\n"
     ]
    }
   ],
   "source": [
    "import numpy as np \n",
    "\n",
    "def diff1_vector(a: np.ndarray) -> np.ndarray:\n",
    "    \"\"\"\n",
    "    Function to calculate the first order difference between elements of an array given as input\n",
    "    \n",
    "    :param a: an array of integers\n",
    "    :returns: an array of integers that represent the first order difference between elements of the array given as input\n",
    "    \"\"\"\n",
    "    return np.diff(a)\n",
    "\n",
    "def diff1_mat(a: np.ndarray, myAxis: int) -> np.ndarray:\n",
    "    \"\"\"\n",
    "    Function to calculate the first order difference between elements of an array given as input\n",
    "    \n",
    "    :param a: an array of integers\n",
    "    :param myAxis: integer that represents the axis on which the function calculates the difference\n",
    "    :returns: matrix of integers that represent the first order difference between elements of the array given as input\n",
    "    \"\"\"\n",
    "    return np.diff(a, axis = myAxis)\n",
    "\n",
    "a = np.array([1, 2, 10, 3])\n",
    "print(f\"Vectorul NumPy rezultat este: {diff1_vector(a)}\")\n",
    "\n",
    "b  = np.array([[1, 2, 3], [40, 50, 60]])\n",
    "print(f\"Matricea rezultata este: {diff1_mat(b,0)}\")\n",
    "print(f\"Matricea rezultata este: {diff1_mat(b,1)}\")"
   ]
  },
  {
   "cell_type": "markdown",
   "metadata": {},
   "source": [
    "2.Sa se scrie o functie care gaseste pozitiile maximelor locale dintr-un vector numpy. Un maxim local este o valoare care are in vecinii imediati (indicele curent  ±1 , fara a iesi din vector) valori strict mai mici decat ea.\n",
    "Exemplu: [-1, 3, -7, 1, 2, 6, 0, 1] -> [1, 5, 7]."
   ]
  },
  {
   "cell_type": "code",
   "execution_count": 7,
   "metadata": {},
   "outputs": [
    {
     "name": "stdout",
     "output_type": "stream",
     "text": [
      "[1 5 7]\n"
     ]
    }
   ],
   "source": [
    "import numpy as np\n",
    "\n",
    "y=np.array([-1, 3, -7, 1, 2, 6, 0, 1])\n",
    "\n",
    "a = np.where((y[1:-1] > y[0:-2]) * (y[1:-1] > y[2:]))[0] + 1\n",
    "\n",
    "if y[0]>y[-1] and y[0]>=[1]:\n",
    "    a1=np.append(a,0)\n",
    "if y[-1]>y[-2] and y[-1]>y[0]:\n",
    "    a1=np.append(a,len(y)-1)\n",
    "print (a1)\n",
    "\n",
    "\n",
    "\n"
   ]
  },
  {
   "cell_type": "markdown",
   "metadata": {},
   "source": [
    "3.Pentru un vector NumPy dat, sa se calculeze toate ferestrele de o anumita lungime, cu o anumita dilatare. Lungimea unei ferestre inseamna numarul de elemente din vectorii rezultati, dilatare reprezinta peste cate elemente vecine se sare in construirea unei \"ferestre\".\n",
    "Exemple:\n",
    "\n",
    "v = np.arange(20), win_len=4, dilation=1 -> [0, 1, 2, 3], [1, 2, 3, 4], [2, 3, 4, 5], ...[16, 17, 18, 19]\n",
    "v = np.arange(20), win_len=3, dilation=2 -> [0, 2, 4], [1, 3, 5], ..., [15, 17, 19]\n",
    "Valorile implicite pentru win_len si dilation sunt 3, respectiv 1. Veti verifica in cadrul functiilor daca: 0 < win_len <= numarul de elemente din vector, dilation > 0 si daca pentru vectorul de intrare, win_len si dilation date rezulta macar o fereastra; daca vreuna din aceste conditii nu se indeplineste, nu se executa restul functiei si se arunca exceptie (se pot folosi assertiuni sau aruncari de exceptii). Rezultatul se va da ca un tablou cu win_len coloane."
   ]
  },
  {
   "cell_type": "code",
   "execution_count": 13,
   "metadata": {},
   "outputs": [
    {
     "name": "stdout",
     "output_type": "stream",
     "text": [
      "[[0, 2, 4], [1, 3, 5], [2, 4, 6], [3, 5, 7], [4, 6, 8], [5, 7, 9], [6, 8, 10], [7, 9, 11], [8, 10, 12], [9, 11, 13], [10, 12, 14], [11, 13, 15], [12, 14, 16], [13, 15, 17], [14, 16, 18], [15, 17, 19]]\n"
     ]
    }
   ],
   "source": [
    "import numpy as np\n",
    "def windows(vec:np.arange, win_len:int=3, dilatation:int=1)->list:\n",
    "    \"\"\"\n",
    "     Functia calculeaza toate ferestrele de o anumita lungime si cu o anumita dilatare pentru un vector dat \n",
    "     \n",
    "     :param vec: vector numpy\n",
    "     :param win_len:lungimea unei ferestre cu valoare implicita 3\n",
    "     :param dilatation :numarul de elemente vecine peste care se sare, valoarea implicita este 1\n",
    "     :returns:o lista ale carei elemente reprezinta toate ferestrele de o anumita lungime si cu o anumita dilatare pentru un vector dat \n",
    "     :reises:Functia arunca exceptie in cazul in care valorile pentru lungime si dilatare nu duc la un rezultat valid\n",
    "    \"\"\"\n",
    "    if win_len>0 and win_len<= len(vec) and dilatation>0 and win_len * dilatation <= len(vec):\n",
    "        i=0\n",
    "        mat=[]\n",
    "        while i<=len(vec)-dilatation-win_len:\n",
    "            win=[vec[j] for j in range(i,i+win_len*dilatation,dilatation)]\n",
    "            mat.append(win)\n",
    "            i=i+1\n",
    "        return mat\n",
    "            \n",
    "    else:\n",
    "            raise Exception(\"Valorile nu corespund\")\n",
    "        \n",
    "vec=np.arange(20)\n",
    "mat2=windows(vec,3,2)\n",
    "print(mat2)\n",
    "\n"
   ]
  },
  {
   "cell_type": "markdown",
   "metadata": {},
   "source": [
    "4.Descarcati setul de date Wine descris la 'http://archive.ics.uci.edu/ml/datasets/Wine', fisierul wine.data, si incarcati-l intr-o matrice NumPy, folosind np.genfromtxt. Alegeti aleator 35 de pozitii din cadrul matricei de valori, setati pe aceste pozitii NaN. Construiti o functie care, primind la intrare o matrice, returneaza o colectie cu indicii de linii respectiv de coloane in care se gasesc valori Na, precum si matricea 'corectata': valorile NaN se umplu cu o valoare implicita data ca parametru al functiei dvs."
   ]
  },
  {
   "cell_type": "code",
   "execution_count": 25,
   "metadata": {
    "scrolled": true
   },
   "outputs": [
    {
     "name": "stdout",
     "output_type": "stream",
     "text": [
      "((array([  1,   3,  19,  20,  27,  28,  29,  32,  39,  40,  43,  44,  45,\n",
      "        46,  55,  58,  60,  67,  69,  77,  81,  83, 103, 112, 126, 127,\n",
      "       129, 136, 145, 149, 149, 149, 155, 156, 172], dtype=int64), array([10, 10,  9,  6,  5,  0, 13,  6,  5, 13,  5, 11,  6,  1, 11, 13, 12,\n",
      "       10,  5,  1,  9, 10,  8, 10, 13,  2,  8, 10,  8,  0,  4,  5, 11, 11,\n",
      "        3], dtype=int64)), array([['1', '14.23', '1.71', ..., '1.04', '3.92', '1065'],\n",
      "       ['1', '13.2', '1.78', ..., '1.05', '3.4', '1050'],\n",
      "       ['1', '13.16', '2.36', ..., '1.03', '3.17', '1185'],\n",
      "       ...,\n",
      "       ['3', '13.27', '4.28', ..., '.59', '1.56', '835'],\n",
      "       ['3', '13.17', '2.59', ..., '.6', '1.62', '840'],\n",
      "       ['3', '14.13', '4.1', ..., '.61', '1.6', '560']], dtype='<U8'))  \n",
      "\n"
     ]
    }
   ],
   "source": [
    "import numpy as np\n",
    "from pathlib import Path\n",
    "import os\n",
    "\n",
    "def matrix(mat:np.ndarray)->tuple:\n",
    "    \"\"\" Functia returneaza indicii la care apare valoarea cautata si matricea modificata in care valoarea cautata este inlocuita cu valoarea implicita * \n",
    "    :param mat=matrice \n",
    "    :returns: tuplu care contine indicii la care se gaseste valoarea cautata(tumplu) si matricea modificata(np.ndarray)\n",
    "    \n",
    "    \"\"\"\n",
    "    ind:list=[]\n",
    "    mat2=np.array(mat)\n",
    "    ind=np.where(mat2=='NaN')\n",
    "    mat2[mat2=='NaN']='*'\n",
    "    return ind,mat2\n",
    "            \n",
    "        \n",
    "\n",
    "x1=np.genfromtxt(\"wine.data\",dtype=str,delimiter=',')\n",
    "random:list=[]\n",
    "i:int=0\n",
    "while i!=35:\n",
    "    pair:tuple=(np.random.randint(0,len(x1)),np.random.randint(0,len(x1[0])))\n",
    "    random.append(pair)\n",
    "    i=i+1\n",
    "for i in random:\n",
    "    x1[i[0]][i[1]]='NaN'\n",
    "print(matrix(x1),end='  ')\n",
    "print('\\n')"
   ]
  },
  {
   "cell_type": "markdown",
   "metadata": {},
   "source": [
    "5. Se da un vector *v* de numere floating point, un numar floating point *x* si un numar intreg *k>0, k<=len(v)*. Sa se scrie o functie care determina pozitiile celor mai apropiate k valori din v fata de x (k nearest neighbours, 1d)."
   ]
  },
  {
   "cell_type": "code",
   "execution_count": 9,
   "metadata": {},
   "outputs": [
    {
     "name": "stdout",
     "output_type": "stream",
     "text": [
      "[6, 7, 8, 5]\n"
     ]
    }
   ],
   "source": [
    "from typing import List\n",
    "import numpy as np\n",
    "import sys\n",
    "\n",
    "def nearestNeighbours(v: np.ndarray, x: float, k: int) -> np.ndarray:\n",
    "    \"\"\"\n",
    "    Function that finds the positions of the k nearest neighbours of a x number in an v array\n",
    "    \n",
    "    :param v: array of floats in wich we can search\n",
    "    :param x: integer representing number for wich we need to find nearest neighbours\n",
    "    :param k: integer representing the number of neighbours we are searching for\n",
    "    :returns: array of integers that represent the positions that we can find a neighbour \n",
    "    \"\"\"\n",
    "    if k <= 0 or k > len(v):\n",
    "        return \"Number k given as input is lower/equal to 0 or higher then length of array v.\"\n",
    "    distances: List[float]= [np.abs(element - x) for element in v]\n",
    "    positions: List[int] = []\n",
    "    for count in range(k):\n",
    "        i: int = distances.index(min(distances))\n",
    "        positions.append(i)\n",
    "        distances[i] = sys.float_info.max\n",
    "    return positions\n",
    "\n",
    "v = np.array([0.7, 1.1, 5.7, 10.4, 10.2, 6.3, 7.9, 8.1, 9.1])\n",
    "\n",
    "print(nearestNeighbours(v, 8.0, 4))"
   ]
  },
  {
   "cell_type": "code",
   "execution_count": null,
   "metadata": {},
   "outputs": [],
   "source": []
  }
 ],
 "metadata": {
  "kernelspec": {
   "display_name": "Python 3",
   "language": "python",
   "name": "python3"
  },
  "language_info": {
   "codemirror_mode": {
    "name": "ipython",
    "version": 3
   },
   "file_extension": ".py",
   "mimetype": "text/x-python",
   "name": "python",
   "nbconvert_exporter": "python",
   "pygments_lexer": "ipython3",
   "version": "3.8.5"
  }
 },
 "nbformat": 4,
 "nbformat_minor": 4
}
